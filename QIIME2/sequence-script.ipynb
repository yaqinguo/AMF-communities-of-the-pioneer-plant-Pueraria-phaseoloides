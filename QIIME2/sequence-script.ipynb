{
 "cells": [
  {
   "cell_type": "code",
   "execution_count": null,
   "metadata": {},
   "outputs": [],
   "source": [
    "mkdir qiime2-ghana-FR\n",
    "cd qiime2-ghana-FR\n",
    "mv rep-seqs.qzv rep-seqs.zip\n",
    "unzip rep-seqs.zip\n",
    "unzip -q GHANA-FR.zip\n",
    "qiime tools import \\\n",
    "  --type 'SampleData[PairedEndSequencesWithQuality]' \\\n",
    "  --input-path ghana-FR-manifest \\\n",
    "  --output-path paired-end-demux.qza \\\n",
    "  --input-format PairedEndFastqManifestPhred33V2\n",
    "#output\n",
    "Imported ghana-FR-manifest as PairedEndFastqManifestPhred33V2 to paired-end-demux.qza\n",
    "#show quality table\n",
    "qiime demux summarize \\\n",
    "  --i-data paired-end-demux.qza \\\n",
    "  --o-visualization paired-end-demux.qzv\n",
    "#output\n",
    "Saved Visualization to: paired-end-demux.qzv"
   ]
  },
  {
   "cell_type": "code",
   "execution_count": null,
   "metadata": {},
   "outputs": [],
   "source": [
    "#dada2\n",
    "time qiime dada2 denoise-paired \\\n",
    "  --i-demultiplexed-seqs paired-end-demux.qza \\\n",
    "  --p-trim-left-f 20 \\\n",
    "  --p-trim-left-r 22 \\\n",
    "  --p-trunc-len-f 268 \\\n",
    "  --p-trunc-len-r 261 \\\n",
    "  --o-table table.qza \\\n",
    "  --o-representative-sequences rep-seqs.qza \\\n",
    "  --o-denoising-stats denoising-stats.qza\n",
    "#output\n",
    "Saved FeatureTable[Frequency] to: table.qza\n",
    "Saved FeatureData[Sequence] to: rep-seqs.qza\n",
    "Saved SampleData[DADA2Stats] to: denoising-stats.qza\n",
    "    real\t119m23.738s\n",
    "    user\t114m43.979s\n",
    "    sys\t2m24.376s\n",
    "#visulation\n",
    "qiime feature-table summarize \\\n",
    "  --i-table table.qza \\\n",
    "  --o-visualization table.qzv \\\n",
    "  --m-sample-metadata-file sample-metadata.tsv \n",
    "\n",
    "qiime feature-table tabulate-seqs \\\n",
    "  --i-data rep-seqs.qza \\\n",
    "  --o-visualization rep-seqs.qzv\n",
    "\n",
    "qiime metadata tabulate \\\n",
    "  --m-input-file denoising-stats.qza \\\n",
    "  --o-visualization denoising-stats.qzv\n",
    "#output\n",
    "Saved Visualization to: table.qzv\n",
    "Saved Visualization to: rep-seqs.qzv\n",
    "Saved Visualization to: denoising-stats.qzv"
   ]
  },
  {
   "cell_type": "code",
   "execution_count": null,
   "metadata": {},
   "outputs": [],
   "source": [
    "#filter rare ASVs mean=66,924.10204081633 *0.1%=67\n",
    "time qiime feature-table filter-features \\\n",
    "  --i-table table.qza \\\n",
    "  --p-min-frequency 67 \\\n",
    "  --o-filtered-table frequency-filtered-table.qza\n",
    "\n",
    "qiime feature-table summarize \\\n",
    "  --i-table frequency-filtered-table.qza \\\n",
    "  --o-visualization frequency-filtered-table.qzv \\\n",
    "  --m-sample-metadata-file sample-metadata.tsv "
   ]
  },
  {
   "cell_type": "code",
   "execution_count": null,
   "metadata": {},
   "outputs": [],
   "source": [
    "# filter seqs according to the filtered-table\n",
    "time qiime feature-table filter-seqs \\\n",
    "  --i-data rep-seqs.qza \\\n",
    "  --i-table frequency-filtered-table.qza \\\n",
    "  --p-no-exclude-ids \\\n",
    "  --o-filtered-data frequency-filtered-rep-seqs.qza   \n",
    "qiime feature-table tabulate-seqs \\\n",
    "  --i-data frequency-filtered-rep-seqs.qza \\\n",
    "  --o-visualization frequency-filtered-rep-seqs.qzv    "
   ]
  },
  {
   "cell_type": "code",
   "execution_count": null,
   "metadata": {},
   "outputs": [],
   "source": [
    "#remove non-AMF\n",
    "#95-90\n",
    "time qiime feature-classifier classify-consensus-blast \\\n",
    "--i-query frequency-filtered-rep-seqs.qza \\\n",
    "--i-reference-reads SSU_Blast_ref_seqs.qza \\\n",
    "--i-reference-taxonomy ref_seqs_Blast_Taxonomy.qza \\\n",
    "--p-query-cov 0.95 \\ #query coverage\n",
    "--p-perc-identity 0.90 \\ #percent identity\n",
    "--p-maxaccepts 1 \\ #only one will be matched. Here if didn't set, could be more than one mach, then it's hard to assign to genus.For example: if at genus level, funneliformis and Glomus are matched, then this sequence will assigned to only family level\n",
    "--o-classification Blast_rep_taxonomy-CQ-95-90-1.qza\n",
    "qiime metadata tabulate \\\n",
    "  --m-input-file Blast_rep_taxonomy-CQ-95-90-1.qza \\\n",
    "  --o-visualization Blast_rep_taxonomy-CQ-95-90-1.qzv"
   ]
  },
  {
   "cell_type": "code",
   "execution_count": null,
   "metadata": {},
   "outputs": [],
   "source": [
    "#filter-seqs which non-AMF\n",
    "time qiime taxa filter-seqs \\\n",
    "--i-sequences frequency-filtered-rep-seqs.qza \\\n",
    "--i-taxonomy Blast_rep_taxonomy-CQ-95-90-1.qza \\\n",
    "--p-exclude Unassigned \\\n",
    "--o-filtered-sequences taxonomy_filtered_seqs.qza\n",
    "qiime feature-table tabulate-seqs \\\n",
    "  --i-data taxonomy_filtered_seqs.qza \\\n",
    "  --o-visualization taxonomy_filtered_seqs.qzv"
   ]
  },
  {
   "cell_type": "code",
   "execution_count": null,
   "metadata": {},
   "outputs": [],
   "source": [
    "#filter-table which non-AMF\n",
    "time qiime taxa filter-table \\\n",
    "--i-table frequency-filtered-table.qza \\\n",
    "--i-taxonomy Blast_rep_taxonomy-CQ-95-90-1.qza \\\n",
    "--p-exclude Unassigned \\\n",
    "--o-filtered-table taxonomy-filtered-table.qza\n",
    "qiime feature-table summarize \\\n",
    "  --i-table taxonomy-filtered-table.qza \\\n",
    "  --o-visualization taxonomy-filtered-table.qzv \\\n",
    "  --m-sample-metadata-file sample-metadata.tsv "
   ]
  }
 ],
 "metadata": {
  "kernelspec": {
   "display_name": "Python 3",
   "language": "python",
   "name": "python3"
  },
  "language_info": {
   "codemirror_mode": {
    "name": "ipython",
    "version": 3
   },
   "file_extension": ".py",
   "mimetype": "text/x-python",
   "name": "python",
   "nbconvert_exporter": "python",
   "pygments_lexer": "ipython3",
   "version": "3.8.3"
  }
 },
 "nbformat": 4,
 "nbformat_minor": 4
}
